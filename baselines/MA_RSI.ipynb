{
 "cells": [
  {
   "cell_type": "code",
   "execution_count": 5,
   "metadata": {},
   "outputs": [],
   "source": [
    "import pandas as pd\n",
    "import matplotlib.pyplot as plt\n",
    "import numpy as np"
   ]
  },
  {
   "cell_type": "code",
   "execution_count": 2,
   "metadata": {},
   "outputs": [],
   "source": [
    "# first strategy: Simple MA \n",
    "# when the asset's open price is below the its SMA, and the volume is above the its SMA it's a buying signal, and vice versa for selling."
   ]
  },
  {
   "cell_type": "code",
   "execution_count": 16,
   "metadata": {},
   "outputs": [
    {
     "name": "stdout",
     "output_type": "stream",
     "text": [
      "                snapped_at      open   market_cap  total_volume\n",
      "0  2015-08-07 00:00:00 UTC  2.831620         0.00  9.062200e+04\n",
      "1  2015-08-08 00:00:00 UTC  1.330750  80339475.00  3.680700e+05\n",
      "2  2015-08-10 00:00:00 UTC  0.687586  41556309.21  4.004641e+05\n",
      "3  2015-08-11 00:00:00 UTC  1.067379  64539006.31  1.518998e+06\n",
      "4  2015-08-12 00:00:00 UTC  1.256613  76013261.05  2.073893e+06\n"
     ]
    }
   ],
   "source": [
    "# load eth_daily.csv\n",
    "df = pd.read_csv('/home/qian/qian/CryptoTrade/data/eth_daily.csv')\n",
    "print(df.head())"
   ]
  },
  {
   "cell_type": "code",
   "execution_count": 17,
   "metadata": {},
   "outputs": [],
   "source": [
    "sma_periods = [5, 10, 15, 20, 30]\n",
    "for period in sma_periods:\n",
    "    df[f'SMA_{period}'] = df['open'].rolling(window=period).mean()"
   ]
  },
  {
   "cell_type": "code",
   "execution_count": 19,
   "metadata": {},
   "outputs": [
    {
     "name": "stdout",
     "output_type": "stream",
     "text": [
      "                snapped_at      open   market_cap  total_volume    SMA_5  \\\n",
      "0  2015-08-07 00:00:00 UTC  2.831620         0.00  9.062200e+04      NaN   \n",
      "1  2015-08-08 00:00:00 UTC  1.330750  80339475.00  3.680700e+05      NaN   \n",
      "2  2015-08-10 00:00:00 UTC  0.687586  41556309.21  4.004641e+05      NaN   \n",
      "3  2015-08-11 00:00:00 UTC  1.067379  64539006.31  1.518998e+06      NaN   \n",
      "4  2015-08-12 00:00:00 UTC  1.256613  76013261.05  2.073893e+06  1.43479   \n",
      "\n",
      "   SMA_10  SMA_15  SMA_20  SMA_30  \n",
      "0     NaN     NaN     NaN     NaN  \n",
      "1     NaN     NaN     NaN     NaN  \n",
      "2     NaN     NaN     NaN     NaN  \n",
      "3     NaN     NaN     NaN     NaN  \n",
      "4     NaN     NaN     NaN     NaN  \n"
     ]
    }
   ],
   "source": [
    "# print the df head now\n",
    "print(df.head())"
   ]
  },
  {
   "cell_type": "code",
   "execution_count": 20,
   "metadata": {},
   "outputs": [
    {
     "name": "stdout",
     "output_type": "stream",
     "text": [
      "                   snapped_at         open    market_cap  total_volume  \\\n",
      "3116  2024-02-18 00:00:00 UTC  2788.561332  3.350000e+11  1.835907e+10   \n",
      "3117  2024-02-19 00:00:00 UTC  2874.945276  3.450000e+11  2.408201e+10   \n",
      "3118  2024-02-20 00:00:00 UTC  2943.723085  3.540000e+11  1.645019e+10   \n",
      "3119  2024-02-21 00:00:00 UTC  3015.438952  3.620000e+11  2.250996e+10   \n",
      "3120  2024-02-22 00:00:00 UTC  2977.082017  3.580000e+11  2.096431e+10   \n",
      "\n",
      "            SMA_5       SMA_10       SMA_15       SMA_20       SMA_30  \n",
      "3116  2768.932717  2641.604244  2539.756446  2482.329949  2428.703562  \n",
      "3117  2815.614552  2687.001916  2578.438402  2510.347476  2441.547803  \n",
      "3118  2848.284574  2732.589134  2622.014309  2540.333561  2457.329785  \n",
      "3119  2886.008070  2784.183811  2669.798912  2576.981215  2476.014099  \n",
      "3120  2919.950132  2831.384332  2710.086987  2610.748451  2498.330599  \n"
     ]
    }
   ],
   "source": [
    "# print df tail\n",
    "print(df.tail())"
   ]
  },
  {
   "cell_type": "code",
   "execution_count": 21,
   "metadata": {},
   "outputs": [
    {
     "name": "stdout",
     "output_type": "stream",
     "text": [
      "53\n",
      "31\n"
     ]
    }
   ],
   "source": [
    "# then filter the data from 2024-01-01 to 2024-01-31\n",
    "df = df[df['snapped_at'] >= '2024-01-01']\n",
    "print(len(df))\n",
    "df = df[df['snapped_at'] <= '2024-02-01']\n",
    "print(len(df))"
   ]
  },
  {
   "cell_type": "code",
   "execution_count": 22,
   "metadata": {},
   "outputs": [],
   "source": [
    "# Initial variables\n",
    "initial_capital = 1_000_000\n",
    "capital = initial_capital\n",
    "portfolio = 0  # Tracks the quantity of ETH held\n",
    "previous_signals = {period: None for period in sma_periods}  # Track previous day signals to determine change"
   ]
  },
  {
   "cell_type": "code",
   "execution_count": 23,
   "metadata": {},
   "outputs": [
    {
     "name": "stdout",
     "output_type": "stream",
     "text": [
      "                   snapped_at         open    market_cap  total_volume  \\\n",
      "3068  2024-01-01 00:00:00 UTC  2279.941009  2.740000e+11  6.715146e+09   \n",
      "3069  2024-01-02 00:00:00 UTC  2350.026286  2.820000e+11  9.173151e+09   \n",
      "3070  2024-01-03 00:00:00 UTC  2360.782120  2.830000e+11  2.059026e+10   \n",
      "3071  2024-01-04 00:00:00 UTC  2211.170828  2.660000e+11  3.445178e+10   \n",
      "3072  2024-01-05 00:00:00 UTC  2270.977439  2.730000e+11  1.834110e+10   \n",
      "\n",
      "            SMA_5       SMA_10       SMA_15       SMA_20       SMA_30  \n",
      "3068  2319.168636  2300.326775  2268.745644  2262.887693  2267.087733  \n",
      "3069  2313.819643  2302.624507  2278.778055  2270.372322  2273.245346  \n",
      "3070  2316.923926  2307.607153  2288.368262  2275.367310  2278.914615  \n",
      "3071  2299.252850  2302.233121  2290.657023  2270.052598  2277.854925  \n",
      "3072  2294.579536  2301.967604  2295.494092  2272.603889  2277.084334  \n"
     ]
    }
   ],
   "source": [
    "# print df head\n",
    "print(df.head())"
   ]
  },
  {
   "cell_type": "code",
   "execution_count": 24,
   "metadata": {},
   "outputs": [
    {
     "name": "stdout",
     "output_type": "stream",
     "text": [
      "                   snapped_at         open    market_cap  total_volume  \\\n",
      "3094  2024-01-27 00:00:00 UTC  2268.870732  2.720000e+11  1.073704e+10   \n",
      "3095  2024-01-28 00:00:00 UTC  2267.907852  2.730000e+11  4.896940e+09   \n",
      "3096  2024-01-29 00:00:00 UTC  2257.054465  2.710000e+11  6.994794e+09   \n",
      "3097  2024-01-30 00:00:00 UTC  2314.594728  2.780000e+11  8.669925e+09   \n",
      "3098  2024-01-31 00:00:00 UTC  2344.001400  2.810000e+11  1.112645e+10   \n",
      "\n",
      "            SMA_5       SMA_10       SMA_15       SMA_20       SMA_30  \n",
      "3094  2254.950870  2368.520334  2424.557990  2423.422070  2379.635595  \n",
      "3095  2247.015040  2342.478240  2407.451734  2425.809884  2377.057167  \n",
      "3096  2250.037378  2321.450789  2386.193716  2422.079591  2375.641442  \n",
      "3097  2265.608461  2303.948455  2375.304200  2420.751296  2376.316466  \n",
      "3098  2290.485835  2291.322234  2363.882961  2408.512908  2378.451813  \n"
     ]
    }
   ],
   "source": [
    "# print df tail now\n",
    "print(df.tail())"
   ]
  },
  {
   "cell_type": "code",
   "execution_count": 25,
   "metadata": {},
   "outputs": [],
   "source": [
    "# store the df now to a new csv file\n",
    "df.to_csv('/home/qian/qian/CryptoTrade/data/eth_daily_with_sma.csv', index=False)"
   ]
  },
  {
   "cell_type": "code",
   "execution_count": 28,
   "metadata": {},
   "outputs": [
    {
     "name": "stdout",
     "output_type": "stream",
     "text": [
      "SMA_5 Final Net Worth: $1003672.15\n",
      "SMA_5 Return: 0.37%\n",
      "\n",
      "SMA_10 Final Net Worth: $1004325.73\n",
      "SMA_10 Return: 0.43%\n",
      "\n",
      "SMA_15 Final Net Worth: $1007441.81\n",
      "SMA_15 Return: 0.74%\n",
      "\n",
      "SMA_20 Final Net Worth: $998543.51\n",
      "SMA_20 Return: -0.15%\n",
      "\n",
      "SMA_30 Final Net Worth: $998543.51\n",
      "SMA_30 Return: -0.15%\n",
      "\n"
     ]
    }
   ],
   "source": [
    "import pandas as pd\n",
    "\n",
    "# Assuming the CSV file is named 'eth_price.csv' and located in your current working directory\n",
    "file_path = '/home/qian/qian/CryptoTrade/data/eth_daily_with_sma.csv'\n",
    "df = pd.read_csv(file_path)\n",
    "\n",
    "# Initialize initial capital and other trading parameters\n",
    "initial_capital = 1_000_000\n",
    "sma_periods = [5, 10, 15, 20, 30]  # The SMA periods you have in your CSV\n",
    "results = {}\n",
    "\n",
    "def simulate_sma_strategy(df, sma_column):\n",
    "    \"\"\"\n",
    "    Simulate trading strategy based on a single SMA column.\n",
    "    \n",
    "    :param df: DataFrame containing the asset and SMA data.\n",
    "    :param sma_column: The column name of the SMA to base the trading signals on.\n",
    "    :return: Final net worth after executing the trading strategy.\n",
    "    \"\"\"\n",
    "    capital = initial_capital\n",
    "    portfolio = 0  # Tracks the quantity of ETH held\n",
    "    previous_signal = None  # Track the previous day signal\n",
    "    \n",
    "    # Iterate through each row in the DataFrame to simulate trading\n",
    "    for index, row in df.iterrows():\n",
    "        current_signal = None\n",
    "        if row['open'] > row[sma_column]:\n",
    "            current_signal = 'buy'\n",
    "        elif row['open'] < row[sma_column]:\n",
    "            current_signal = 'sell'\n",
    "        \n",
    "        # Execute trades based on signal changes\n",
    "        if current_signal != previous_signal and current_signal is not None:\n",
    "            trade_amount = capital * 0.2  # Use 20% of capital for each trade\n",
    "\n",
    "            if current_signal == 'buy':\n",
    "                # Buy ETH with the specified trade amount\n",
    "                eth_bought = trade_amount / row['open']\n",
    "                portfolio += eth_bought\n",
    "                capital -= trade_amount\n",
    "            elif current_signal == 'sell' and portfolio > 0:\n",
    "                # Sell a portion of ETH holdings\n",
    "                eth_sold = portfolio * 0.5 # Sell 20% of holdings\n",
    "                capital += eth_sold * row['open']\n",
    "                portfolio -= eth_sold\n",
    "\n",
    "        previous_signal = current_signal\n",
    "\n",
    "    # Calculate final net worth\n",
    "    final_net_worth = capital + (portfolio * df.iloc[-1]['open'])\n",
    "    return final_net_worth\n",
    "\n",
    "# Run simulations for each SMA period and store results\n",
    "for period in sma_periods:\n",
    "    sma_column = f'SMA_{period}'\n",
    "    net_worth = simulate_sma_strategy(df, sma_column)\n",
    "    results[sma_column] = net_worth\n",
    "\n",
    "# Display results\n",
    "for sma, net_worth in results.items():\n",
    "    print(f\"{sma} Final Net Worth: ${net_worth:.2f}\")\n",
    "    print(f\"{sma} Return: {((net_worth / initial_capital) - 1) * 100:.2f}%\\n\")\n"
   ]
  },
  {
   "cell_type": "code",
   "execution_count": 32,
   "metadata": {},
   "outputs": [
    {
     "name": "stdout",
     "output_type": "stream",
     "text": [
      "Results saved to sma_strategy_results.csv\n"
     ]
    }
   ],
   "source": [
    "import pandas as pd\n",
    "\n",
    "# Load the data\n",
    "file_path = '/home/qian/qian/CryptoTrade/data/eth_daily_with_sma.csv'\n",
    "df = pd.read_csv(file_path)\n",
    "\n",
    "initial_capital = 1_000_000\n",
    "sma_periods = [5, 10, 15, 20, 30]\n",
    "results = []\n",
    "\n",
    "def simulate_sma_strategy(df, sma_column, portfolio_ratio):\n",
    "    capital = initial_capital\n",
    "    portfolio = 0  # in ETH\n",
    "    previous_signal = None\n",
    "\n",
    "    for index, row in df.iterrows():\n",
    "        current_signal = 'hold'\n",
    "        if row['open'] > row[sma_column]:\n",
    "            current_signal = 'buy'\n",
    "        elif row['open'] < row[sma_column]:\n",
    "            current_signal = 'sell'\n",
    "        \n",
    "        if current_signal != previous_signal:\n",
    "            if current_signal == 'buy' and capital > 0:\n",
    "                eth_bought = (capital * portfolio_ratio) / row['open']\n",
    "                portfolio += eth_bought\n",
    "                capital -= eth_bought * row['open']\n",
    "            elif current_signal == 'sell' and portfolio > 0:\n",
    "                eth_sold = portfolio * portfolio_ratio\n",
    "                capital += eth_sold * row['open']\n",
    "                portfolio -= eth_sold\n",
    "\n",
    "        previous_signal = current_signal\n",
    "\n",
    "    final_net_worth = capital + portfolio * df.iloc[-1]['open']\n",
    "    return final_net_worth\n",
    "\n",
    "# Portfolio ratio to adjust how much of the portfolio is traded\n",
    "portfolio_ratio = 0.8  # Adjust this value as needed\n",
    "\n",
    "# Run simulations\n",
    "for period in sma_periods:\n",
    "    sma_column = f'SMA_{period}'\n",
    "    net_worth = simulate_sma_strategy(df, sma_column, portfolio_ratio)\n",
    "    return_percentage = ((net_worth / initial_capital) - 1) * 100\n",
    "    results.append({\n",
    "        'SMA Period': period,\n",
    "        'Final Net Worth': net_worth,\n",
    "        'Return Percentage': return_percentage\n",
    "    })\n",
    "\n",
    "# Convert results to DataFrame and save to CSV\n",
    "results_df = pd.DataFrame(results)\n",
    "results_csv_path = 'sma_strategy_results.csv'\n",
    "results_df.to_csv(results_csv_path, index=False)\n",
    "\n",
    "print(f\"Results saved to {results_csv_path}\")\n"
   ]
  },
  {
   "cell_type": "code",
   "execution_count": 40,
   "metadata": {},
   "outputs": [
    {
     "name": "stdout",
     "output_type": "stream",
     "text": [
      "                snapped_at      open   market_cap  total_volume    EMA_12  \\\n",
      "0  2015-08-07 00:00:00 UTC  2.831620         0.00  9.062200e+04  2.831620   \n",
      "1  2015-08-08 00:00:00 UTC  1.330750  80339475.00  3.680700e+05  2.600717   \n",
      "2  2015-08-10 00:00:00 UTC  0.687586  41556309.21  4.004641e+05  2.306389   \n",
      "3  2015-08-11 00:00:00 UTC  1.067379  64539006.31  1.518998e+06  2.115772   \n",
      "4  2015-08-12 00:00:00 UTC  1.256613  76013261.05  2.073893e+06  1.983594   \n",
      "\n",
      "     EMA_26      MACD  Signal_Line  \n",
      "0  2.831620  0.000000     0.000000  \n",
      "1  2.720444 -0.119728    -0.023946  \n",
      "2  2.569862 -0.263473    -0.071851  \n",
      "3  2.458567 -0.342795    -0.126040  \n",
      "4  2.369534 -0.385940    -0.178020  \n"
     ]
    }
   ],
   "source": [
    "# second strategy: MACD\n",
    "# MACD = 12-day EMA - 26-day EMA\n",
    "# Signal Line = 9-day EMA of MACD\n",
    "# When MACD crosses above the signal line, it's a buying signal, and vice versa for selling.\n",
    "\n",
    "# load the data\n",
    "file_path = '/home/qian/qian/CryptoTrade/data/eth_daily.csv'\n",
    "df = pd.read_csv(file_path)\n",
    "\n",
    "\n",
    "# Calculate the MACD and Signal Line\n",
    "df['EMA_12'] = df['open'].ewm(span=12, adjust=False).mean()\n",
    "df['EMA_26'] = df['open'].ewm(span=26, adjust=False).mean()\n",
    "\n",
    "df['MACD'] = df['EMA_12'] - df['EMA_26']\n",
    "\n",
    "df['Signal_Line'] = df['MACD'].ewm(span=9, adjust=False).mean()\n",
    "\n",
    "# Print the head of the DataFrame\n",
    "print(df.head())\n"
   ]
  },
  {
   "cell_type": "code",
   "execution_count": 56,
   "metadata": {},
   "outputs": [
    {
     "name": "stdout",
     "output_type": "stream",
     "text": [
      "Final Net Worth: $1150317.94\n"
     ]
    }
   ],
   "source": [
    "# then apply the strategy on the date from 2024-01-01 to 2024-01-31\n",
    "df = df[df['snapped_at'] >= '2024-01-01']\n",
    "df = df[df['snapped_at'] <= '2024-02-01']\n",
    "\n",
    "\n",
    "# Initialize initial capital and other trading parameters\n",
    "initial_capital = 1_000_000\n",
    "\n",
    "capital = initial_capital\n",
    "\n",
    "portfolio = 0  # Tracks the quantity of ETH held\n",
    "\n",
    "\n",
    "previous_signal = None  # Track the previous day signal\n",
    "\n",
    "# Iterate through each row in the DataFrame to simulate trading\n",
    "for index, row in df.iterrows():\n",
    "    current_signal = None\n",
    "    if row['MACD'] < row['Signal_Line']:\n",
    "        current_signal = 'buy'\n",
    "    elif row['MACD'] > row['Signal_Line']:\n",
    "        current_signal = 'sell'\n",
    "    \n",
    "    # Execute trades based on signal changes\n",
    "    if current_signal != previous_signal and current_signal is not None:\n",
    "        trade_amount = capital * 1  # Use 100% of capital for each trade\n",
    "\n",
    "        if current_signal == 'buy':\n",
    "            # Buy ETH with the specified trade amount\n",
    "            eth_bought = trade_amount / row['open']\n",
    "            portfolio += eth_bought\n",
    "            capital -= trade_amount\n",
    "        elif current_signal == 'sell' and portfolio > 0:\n",
    "            # Sell a portion of ETH holdings\n",
    "            eth_sold = portfolio * 1 # Sell 100% of holdings\n",
    "            capital += eth_sold * row['open']\n",
    "            portfolio -= eth_sold\n",
    "\n",
    "    previous_signal = current_signal\n",
    "    \n",
    "    \n",
    "# Calculate final net worth\n",
    "final_net_worth = capital + (portfolio * df.iloc[-1]['open'])\n",
    "\n",
    "# store the final net worth to a csv file\n",
    "\n",
    "print(f\"Final Net Worth: ${final_net_worth:.2f}\")"
   ]
  },
  {
   "cell_type": "code",
   "execution_count": 57,
   "metadata": {},
   "outputs": [],
   "source": [
    "# third strategy: short and long strategy - If the short period SMA is below the long period SMA, it means that the trend is going down, so it's a sell signal, it's also known as the death cross.\n",
    "# Otherwise, the trend is shiftting up, and it's a buy signal, it's also called the golden cross.\n",
    "\n",
    "# load the data \n",
    "file_path = '/home/qian/qian/CryptoTrade/data/eth_daily_with_sma.csv'\n",
    "\n",
    "df = pd.read_csv(file_path)"
   ]
  },
  {
   "cell_type": "code",
   "execution_count": 58,
   "metadata": {},
   "outputs": [
    {
     "name": "stdout",
     "output_type": "stream",
     "text": [
      "                snapped_at         open    market_cap  total_volume  \\\n",
      "0  2024-01-01 00:00:00 UTC  2279.941009  2.740000e+11  6.715146e+09   \n",
      "1  2024-01-02 00:00:00 UTC  2350.026286  2.820000e+11  9.173151e+09   \n",
      "2  2024-01-03 00:00:00 UTC  2360.782120  2.830000e+11  2.059026e+10   \n",
      "3  2024-01-04 00:00:00 UTC  2211.170828  2.660000e+11  3.445178e+10   \n",
      "4  2024-01-05 00:00:00 UTC  2270.977439  2.730000e+11  1.834110e+10   \n",
      "\n",
      "         SMA_5       SMA_10       SMA_15       SMA_20       SMA_30  \n",
      "0  2319.168636  2300.326775  2268.745644  2262.887693  2267.087733  \n",
      "1  2313.819643  2302.624507  2278.778055  2270.372322  2273.245346  \n",
      "2  2316.923926  2307.607153  2288.368262  2275.367310  2278.914615  \n",
      "3  2299.252850  2302.233121  2290.657023  2270.052598  2277.854925  \n",
      "4  2294.579536  2301.967604  2295.494092  2272.603889  2277.084334  \n"
     ]
    }
   ],
   "source": [
    "print(df.head())"
   ]
  },
  {
   "cell_type": "code",
   "execution_count": 62,
   "metadata": {},
   "outputs": [
    {
     "name": "stdout",
     "output_type": "stream",
     "text": [
      "Final Net Worth: $1207496.36\n"
     ]
    }
   ],
   "source": [
    "# if sma_5 is below sma_20, it's a sell signal, and vice versa for buying\n",
    "# Initialize initial capital and other trading parameters\n",
    "\n",
    "initial_capital = 1_000_000\n",
    "capital = initial_capital\n",
    "\n",
    "portfolio = 0  # Tracks the quantity of ETH held\n",
    "\n",
    "previous_signal = None  # Track the previous day signal\n",
    "\n",
    "# Iterate through each row in the DataFrame to simulate trading\n",
    "\n",
    "for index, row in df.iterrows():\n",
    "    current_signal = None\n",
    "    if row['SMA_5'] < row['SMA_20']:\n",
    "        current_signal = 'buy'\n",
    "    elif row['SMA_5'] > row['SMA_20']:\n",
    "        current_signal = 'sell'\n",
    "    \n",
    "    # Execute trades based on signal changes\n",
    "    if current_signal != previous_signal and current_signal is not None:\n",
    "        trade_amount = capital * 1  # Use 100% of capital for each trade\n",
    "\n",
    "        if current_signal == 'buy':\n",
    "            # Buy ETH with the specified trade amount\n",
    "            eth_bought = trade_amount / row['open']\n",
    "            portfolio += eth_bought\n",
    "            capital -= trade_amount\n",
    "        elif current_signal == 'sell' and portfolio > 0:\n",
    "            # Sell a portion of ETH holdings\n",
    "            eth_sold = portfolio * 1 # Sell 100% of holdings\n",
    "            capital += eth_sold * row['open']\n",
    "            portfolio -= eth_sold\n",
    "\n",
    "    previous_signal = current_signal\n",
    "    \n",
    "    \n",
    "# Calculate final net worth\n",
    "final_net_worth = capital + (portfolio * df.iloc[-1]['open'])\n",
    "\n",
    "print(f\"Final Net Worth: ${final_net_worth:.2f}\")"
   ]
  }
 ],
 "metadata": {
  "kernelspec": {
   "display_name": "pytorch",
   "language": "python",
   "name": "python3"
  },
  "language_info": {
   "codemirror_mode": {
    "name": "ipython",
    "version": 3
   },
   "file_extension": ".py",
   "mimetype": "text/x-python",
   "name": "python",
   "nbconvert_exporter": "python",
   "pygments_lexer": "ipython3",
   "version": "3.9.18"
  }
 },
 "nbformat": 4,
 "nbformat_minor": 2
}
