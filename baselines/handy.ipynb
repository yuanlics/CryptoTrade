{
 "cells": [
  {
   "cell_type": "code",
   "execution_count": 1,
   "metadata": {},
   "outputs": [
    {
     "name": "stdout",
     "output_type": "stream",
     "text": [
      "[3.5761940841785522, 3.7711978087130227, -3.8974099347058866]\n",
      "ROI: 1.15+-3.57\n"
     ]
    }
   ],
   "source": [
    "# mean std\n",
    "import numpy as np\n",
    "arr = np.array([0.005589002799535114,0,-0.0302623800029167]) * 100\n",
    "# arr = np.array([0.0766651034332797,0.024811663899072522,-0.015567128797595364]) * 100\n",
    "# arr = np.array([0.1572889074007382,-0.017281564002268768,0.020156207034912388]) * 100\n",
    "arr = np.array([0.005589002799535114,0.0,0.0]) * 100\n",
    "arr = np.array([0.1748561102270645,0.0,0.03332089922972514]) * 100\n",
    "arr = np.array([0.03576194084178552,0.03771197808713023,-0.038974099347058866]) * 100\n",
    "\n",
    "\n",
    "print(arr.tolist())\n",
    "print(f'ROI: {arr.mean():.2f}+-{arr.std():.2f}')"
   ]
  },
  {
   "cell_type": "code",
   "execution_count": 13,
   "metadata": {},
   "outputs": [
    {
     "data": {
      "text/plain": [
       "array([48400., 13200., 56400., 61900., 69400.])"
      ]
     },
     "execution_count": 13,
     "metadata": {},
     "output_type": "execute_result"
    }
   ],
   "source": [
    "arr = np.array([4.84,1.32,5.64,6.19,6.94])\n",
    "arr/1e2*1e6"
   ]
  }
 ],
 "metadata": {
  "kernelspec": {
   "display_name": "pytorch",
   "language": "python",
   "name": "python3"
  },
  "language_info": {
   "codemirror_mode": {
    "name": "ipython",
    "version": 3
   },
   "file_extension": ".py",
   "mimetype": "text/x-python",
   "name": "python",
   "nbconvert_exporter": "python",
   "pygments_lexer": "ipython3",
   "version": "3.8.18"
  }
 },
 "nbformat": 4,
 "nbformat_minor": 2
}
